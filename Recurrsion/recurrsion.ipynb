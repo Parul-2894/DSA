{
 "cells": [
  {
   "cell_type": "markdown",
   "metadata": {},
   "source": [
    "# Recurrsion\n",
    "\n",
    "<ol>\n",
    "    <li>Divide big problem into small and simple problem</li>\n",
    "    <li>Find a base condition with a simple answer</li>\n",
    "    <li>Return or rollback answer for base condition to solve all sub problems</li>\n",
    "</ol>"
   ]
  },
  {
   "cell_type": "code",
   "execution_count": 7,
   "metadata": {},
   "outputs": [
    {
     "name": "stdout",
     "output_type": "stream",
     "text": [
      "15\n"
     ]
    }
   ],
   "source": [
    "# simple recurrsion using iterative approach \n",
    "#find sum from 1 to n using recurrsion\n",
    "\n",
    "def find_sum(n):\n",
    "    if n == 1:\n",
    "        return 1\n",
    "    return n + find_sum(n-1)\n",
    "\n",
    "    \n",
    "\n",
    "print(find_sum(5))"
   ]
  },
  {
   "cell_type": "code",
   "execution_count": 8,
   "metadata": {},
   "outputs": [
    {
     "name": "stdout",
     "output_type": "stream",
     "text": [
      "3\n"
     ]
    }
   ],
   "source": [
    "# Fibonacci series \n",
    "# Generate two numbers  using last 2 numbers\n",
    "#0,1,1,2,3,5\n",
    "#0,1,2,3,4,5 [Index]\n",
    "def fib(n, fib=[]):\n",
    "    if n <=1:\n",
    "        return n\n",
    "    \n",
    "    return fib(n-1)+fib(n-2)\n",
    "    \n",
    "print(fib(4)) \n",
    "    "
   ]
  },
  {
   "cell_type": "code",
   "execution_count": 15,
   "metadata": {},
   "outputs": [
    {
     "name": "stdout",
     "output_type": "stream",
     "text": [
      "index of 60 in [21, 22, 23, 50, 60, 70, 80, 90]\n",
      "4\n"
     ]
    }
   ],
   "source": [
    "#serching using recurrsion \n",
    "\n",
    "def binary_search_recursive(numbers_list, number_to_find, left_index, right_index):\n",
    "    if right_index < left_index:\n",
    "        return -1\n",
    "\n",
    "    mid_index = (left_index + right_index)//2\n",
    "\n",
    "    if mid_index >= len(numbers_list) or mid_index <0:\n",
    "        return -1\n",
    "\n",
    "    mid_number = numbers_list[mid_index]\n",
    "   \n",
    "\n",
    "    if mid_number == number_to_find:\n",
    "        return mid_index\n",
    "    \n",
    "    if number_to_find < mid_number:\n",
    "        right_index = mid_index - 1\n",
    "\n",
    "    else:\n",
    "        left_index = mid_index + 1\n",
    "\n",
    "    return binary_search_recursive(numbers_list, number_to_find, left_index, right_index)\n",
    "        \n",
    "        \n",
    "number_list = [21, 22, 23, 50, 60, 70, 80, 90]\n",
    "number_to_search = 60\n",
    "left_index = 0\n",
    "right_index = len(number_list)-1\n",
    "\n",
    "print(f\"index of {number_to_search} in {number_list}\")\n",
    "print(binary_search_recursive(number_list, number_to_search, left_index, right_index))"
   ]
  },
  {
   "cell_type": "markdown",
   "metadata": {},
   "source": [
    "# Excersises \n"
   ]
  },
  {
   "cell_type": "code",
   "execution_count": 22,
   "metadata": {},
   "outputs": [
    {
     "name": "stdout",
     "output_type": "stream",
     "text": [
      "42\n"
     ]
    }
   ],
   "source": [
    "\"\"\"\n",
    "    Write a Python program to sum recursion lists using recursion.\n",
    "    Test Data: [1, 2, [3,4], [5,6]]\n",
    "    Expected Result: 21\n",
    "\"\"\"\n",
    "\n",
    "\n",
    "def sum_recursion_list(list_val):\n",
    "    sum = 0\n",
    "  \n",
    "    for i in list_val:\n",
    "       \n",
    "        if type(i) is list:\n",
    "            sum += sum_recursion_list(i)\n",
    "        else:\n",
    "            sum += i\n",
    "    return sum\n",
    "\n",
    "list_val = [1, 2, [3,4, [2,4,5]], [5,6, 10]]\n",
    "\n",
    "print(sum_recursion_list(list_val))\n",
    "\n",
    "\n"
   ]
  },
  {
   "cell_type": "code",
   "execution_count": 25,
   "metadata": {},
   "outputs": [
    {
     "data": {
      "text/plain": [
       "720"
      ]
     },
     "execution_count": 25,
     "metadata": {},
     "output_type": "execute_result"
    }
   ],
   "source": [
    "\"\"\"\n",
    "Factorial\n",
    "\"\"\"\n",
    "\n",
    "def factorial(n):\n",
    "    if n == 1:\n",
    "        return n\n",
    "    \n",
    "    fact = n * factorial(n-1)\n",
    "    return fact\n",
    "\n",
    "factorial(6)"
   ]
  },
  {
   "cell_type": "code",
   "execution_count": null,
   "metadata": {},
   "outputs": [],
   "source": []
  }
 ],
 "metadata": {
  "kernelspec": {
   "display_name": "Python 3",
   "language": "python",
   "name": "python3"
  },
  "language_info": {
   "codemirror_mode": {
    "name": "ipython",
    "version": 3
   },
   "file_extension": ".py",
   "mimetype": "text/x-python",
   "name": "python",
   "nbconvert_exporter": "python",
   "pygments_lexer": "ipython3",
   "version": "3.11.1"
  }
 },
 "nbformat": 4,
 "nbformat_minor": 2
}
