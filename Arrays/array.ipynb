{
 "cells": [
  {
   "cell_type": "markdown",
   "metadata": {},
   "source": [
    "[Array tutorial](https://youtu.be/gDqQf4Ekr2A?si=BEKBaaEp4Snj1oaf)"
   ]
  },
  {
   "cell_type": "markdown",
   "metadata": {},
   "source": [
    "In python list is impletemented as a dynamic array.\n",
    "\n",
    "In static array you have fixed size and it will only allocate memory for that fixed size. \n",
    "For dynamic array, it will allocate some initial capacity in the memory. if this capacy is full, it will allocate new set of space at some other location.\n"
   ]
  },
  {
   "cell_type": "markdown",
   "metadata": {},
   "source": [
    "Excercise\n",
    "Let us say your expense for every month are listed below,\n",
    "January - 2200\n",
    "February - 2350\n",
    "March - 2600\n",
    "April - 2130\n",
    "May - 2190\n",
    "Create a list to store these monthly expenses and using that find out,\n",
    "\n",
    "1. In Feb, how many dollars you spent extra compare to January?\n",
    "2. Find out your total expense in first quarter (first three months) of the year.\n",
    "3. Find out if you spent exactly 2000 dollars in any month\n",
    "4. June month just finished and your expense is 1980 dollar. Add this item to our monthly expense list\n",
    "5. You returned an item that you bought in a month of April and\n",
    "got a refund of 200$. Make a correction to your monthly expense list\n",
    "based on this"
   ]
  },
  {
   "cell_type": "code",
   "execution_count": 3,
   "metadata": {},
   "outputs": [
    {
     "name": "stdout",
     "output_type": "stream",
     "text": [
      "extra spent is 150\n",
      "quater spent is 7150\n",
      "spent 2000? False\n",
      "Expense list with 1980 [2200, 2350, 2600, 2130, 2190, 1980]\n",
      "Corrected Expense list is [2200, 2350, 2600, 1930, 2190, 1980]\n"
     ]
    }
   ],
   "source": [
    "expense_list = [2200, 2350, 2600, 2130, 2190]\n",
    "\n",
    "#1. In Feb, how many dollars you spent extra compare to January?\n",
    "extra_spent = expense_list[1] - expense_list[0]\n",
    "print(\"extra spent is\", extra_spent)\n",
    "\n",
    "#2 Find out your total expense in first quarter (first three months) of the year.\n",
    "quater_spent = expense_list[0] + expense_list[1] + expense_list[2]\n",
    "print(\"quater spent is\", quater_spent)\n",
    "\n",
    "#3 Find out if you spent exactly 2000 dollars in any month\n",
    "\n",
    "spent_2000 = 2000 in expense_list\n",
    "print('spent 2000?', spent_2000)\n",
    "\n",
    "#4 June month just finished and your expense is 1980 dollar. Add this item to our monthly expense list\n",
    "expense_list.append(1980)\n",
    "print('Expense list with 1980', expense_list)\n",
    "\n",
    "#You returned an item that you bought in a month of April and\n",
    "#got a refund of 200$. Make a correction to your monthly expense list\n",
    "#based on this\n",
    "\n",
    "expense_list[3] = expense_list[3]-200\n",
    "\n",
    "print(\"Corrected Expense list is\", expense_list)\n"
   ]
  },
  {
   "cell_type": "markdown",
   "metadata": {},
   "source": [
    "Excercise\n",
    "\n",
    "\n",
    "You have a list of your favourite marvel super heros.\n",
    "heros=['spider man','thor','hulk','iron man','captain america']\n",
    "Using this find out,\n",
    "\n",
    "1. Length of the list\n",
    "2. Add 'black panther' at the end of this list\n",
    "3. You realize that you need to add 'black panther' after 'hulk',\n",
    "   so remove it from the list first and then add it after 'hulk'\n",
    "4. Now you don't like thor and hulk because they get angry easily :)\n",
    "   So you want to remove thor and hulk from list and replace them with doctor strange (because he is cool).\n",
    "   Do that with one line of code.\n",
    "5. Sort the heros list in alphabetical order (Hint. Use dir() functions to list down all functions available in list)\n"
   ]
  },
  {
   "cell_type": "code",
   "execution_count": 6,
   "metadata": {},
   "outputs": [
    {
     "name": "stdout",
     "output_type": "stream",
     "text": [
      "length of list 5\n",
      "After Adding Black panther\n",
      "['spider man', 'thor', 'hulk', 'iron man', 'captain america', 'black panther']\n",
      "After place Black panther after hulk\n",
      "['spider man', 'thor', 'hulk', 'black_panther', 'iron man', 'captain america']\n",
      "removing thor and hulk and adding doctor strange\n",
      "['spider man', 'd', 'o', 'c', 't', 'o', 'r', ' ', 's', 't', 'r', 'a', 'n', 'g', 'e', 'black_panther', 'iron man', 'captain america']\n",
      "sorted heros\n",
      "[' ', 'a', 'black_panther', 'c', 'captain america', 'd', 'e', 'g', 'iron man', 'n', 'o', 'o', 'r', 'r', 's', 'spider man', 't', 't']\n"
     ]
    }
   ],
   "source": [
    "heros=['spider man','thor','hulk','iron man','captain america']\n",
    "\n",
    "#1. \n",
    "print('length of list', len(heros))\n",
    "\n",
    "#2. \n",
    "heros.append('black panther')\n",
    "print('After Adding Black panther')\n",
    "print(heros)\n",
    "\n",
    "#3. \n",
    "hulk_index = heros.index(\"hulk\")\n",
    "heros.remove('black panther')\n",
    "heros.insert(hulk_index+1, \"black_panther\")\n",
    "print('After place Black panther after hulk')\n",
    "print(heros)\n",
    "\n",
    "#Simpler way and correct way is \n",
    "heros[1:3] = [\"doctor strange\"]\n",
    "print(\"removing thor and hulk and adding doctor strange\")\n",
    "print(heros)\n",
    "\n",
    "#5. \n",
    "heros.sort()\n",
    "print('sorted heros')\n",
    "print(heros)\n"
   ]
  },
  {
   "cell_type": "code",
   "execution_count": null,
   "metadata": {},
   "outputs": [],
   "source": []
  }
 ],
 "metadata": {
  "kernelspec": {
   "display_name": "Python 3",
   "language": "python",
   "name": "python3"
  },
  "language_info": {
   "codemirror_mode": {
    "name": "ipython",
    "version": 3
   },
   "file_extension": ".py",
   "mimetype": "text/x-python",
   "name": "python",
   "nbconvert_exporter": "python",
   "pygments_lexer": "ipython3",
   "version": "3.9.6"
  }
 },
 "nbformat": 4,
 "nbformat_minor": 2
}
