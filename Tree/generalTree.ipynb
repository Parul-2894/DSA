{
 "cells": [
  {
   "cell_type": "markdown",
   "metadata": {
    "vscode": {
     "languageId": "html"
    }
   },
   "source": [
    "General Tree, a node can have many children\n"
   ]
  },
  {
   "cell_type": "code",
   "execution_count": 28,
   "metadata": {},
   "outputs": [
    {
     "name": "stdout",
     "output_type": "stream",
     "text": [
      "Electronics\n",
      "    |___Laptop\n",
      "        |___lenevo\n",
      "        |___acer\n",
      "            |___acer1\n",
      "            |___acer2\n",
      "            |___acer1\n",
      "                |___acer1_sA\n",
      "                |___acer1_sB\n",
      "            |___acer2\n",
      "    |___Mobile\n",
      "        |___samsun\n",
      "        |___moto\n",
      "['Electronics', 'Laptop', 'acer', 'acer1', 'acer1_sA']\n",
      "['Laptop', 'acer', 'acer1', 'acer1_sA']\n",
      "['Mobile', 'samsun']\n"
     ]
    }
   ],
   "source": [
    "\n",
    "#tree is a recursive data structure,\n",
    "#so its children are also a tree\n",
    "\n",
    "#this node is an individual node in a tree\n",
    "class TreeNode:\n",
    "    def __init__(self,data):\n",
    "        self.data = data\n",
    "        self.children = []\n",
    "        self.parent = None\n",
    "\n",
    "    def add_child(self,child):\n",
    "        child.parent = self\n",
    "        self.children.append(child)\n",
    "\n",
    "    def get_level(self):\n",
    "        level = 0\n",
    "        p = self.parent\n",
    "        while p:\n",
    "            level +=1\n",
    "            p = p.parent\n",
    "        return level\n",
    "\n",
    "    def print_tree(self):\n",
    "        pattern = \"    \"*self.get_level()\n",
    "        prefix = \"|___\" if self.parent is not None else \"\"\n",
    "        print(f'{pattern}{prefix}{self.data}')\n",
    "        if len(self.children)>0:\n",
    "            for child in self.children:\n",
    "                child.print_tree()\n",
    "\n",
    "    def longest_path(self):\n",
    "\n",
    "        if not self.children:\n",
    "            return [self.data]\n",
    "        longest_path = []\n",
    "        \n",
    "        for child in self.children:\n",
    "            path = child.longest_path()\n",
    "            if len(path) > len(longest_path):\n",
    "                longest_path = path\n",
    "            \n",
    "        return [self.data] + longest_path\n",
    "\n",
    "root = TreeNode(\"Electronics\")\n",
    "laptop = TreeNode(\"Laptop\")\n",
    "mobile = TreeNode(\"Mobile\")\n",
    "samsung = TreeNode(\"samsun\")\n",
    "moto = TreeNode(\"moto\")\n",
    "mobile.add_child(samsung)\n",
    "mobile.add_child(moto)\n",
    "\n",
    "lenevo = TreeNode(\"lenevo\")\n",
    "acer = TreeNode(\"acer\")\n",
    "\n",
    "acer1 = TreeNode(\"acer1\")\n",
    "acer2 = TreeNode(\"acer2\")\n",
    "acer.add_child(acer1)\n",
    "acer.add_child(acer2)\n",
    "\n",
    "laptop.add_child(lenevo)\n",
    "laptop.add_child(acer)\n",
    "\n",
    "acer1 = TreeNode(\"acer1\")\n",
    "\n",
    "acer1_sA = TreeNode(\"acer1_sA\")\n",
    "acer1_sB = TreeNode(\"acer1_sB\")\n",
    "acer1.add_child(acer1_sA)\n",
    "acer1.add_child(acer1_sB)\n",
    "\n",
    "acer2 = TreeNode(\"acer2\")\n",
    "acer.add_child(acer1)\n",
    "acer.add_child(acer2)\n",
    "\n",
    "root.add_child(laptop)\n",
    "root.add_child(mobile)\n",
    "root.print_tree()\n",
    "\n",
    "print(root.longest_path())\n",
    "print(laptop.longest_path())\n",
    "print(mobile.longest_path())\n",
    "\n",
    "\n"
   ]
  },
  {
   "cell_type": "code",
   "execution_count": null,
   "metadata": {},
   "outputs": [],
   "source": []
  }
 ],
 "metadata": {
  "kernelspec": {
   "display_name": "Python 3",
   "language": "python",
   "name": "python3"
  },
  "language_info": {
   "codemirror_mode": {
    "name": "ipython",
    "version": 3
   },
   "file_extension": ".py",
   "mimetype": "text/x-python",
   "name": "python",
   "nbconvert_exporter": "python",
   "pygments_lexer": "ipython3",
   "version": "3.9.6"
  }
 },
 "nbformat": 4,
 "nbformat_minor": 2
}
