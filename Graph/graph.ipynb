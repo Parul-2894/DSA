{
 "cells": [
  {
   "cell_type": "markdown",
   "metadata": {},
   "source": [
    "# Graph "
   ]
  },
  {
   "cell_type": "code",
   "execution_count": 11,
   "metadata": {},
   "outputs": [
    {
     "name": "stdout",
     "output_type": "stream",
     "text": [
      "Graph dict \n",
      "{'Mumbai': ['Paris', 'Dubai'], 'Paris': ['Dubai', 'New York'], 'Dubai': ['New York'], 'New York': ['Toronto']}\n",
      "All paths\n",
      "[['Mumbai', 'Paris', 'Dubai', 'New York'], ['Mumbai', 'Paris', 'New York'], ['Mumbai', 'Dubai', 'New York']]\n",
      "Shortest paths\n",
      "['Mumbai', 'Paris', 'New York']\n"
     ]
    }
   ],
   "source": [
    "class Graph:\n",
    "    def __init__(self, edges):\n",
    "        self.edges = edges\n",
    "        self.graph_dict = {}\n",
    "\n",
    "        for start, end in edges:\n",
    "            if start in self.graph_dict:\n",
    "                self.graph_dict[start].append(end)\n",
    "            else:\n",
    "                self.graph_dict[start] = [end]\n",
    "\n",
    "        print(\"Graph dict \")\n",
    "        print(self.graph_dict)\n",
    "\n",
    "    def get_paths(self, start, end, path=[]):\n",
    "        path = path + [start]\n",
    "        if start == end:\n",
    "            return [path]\n",
    "        \n",
    "        if start not in self.graph_dict:\n",
    "            return []\n",
    "        paths = []\n",
    "        nodes = self.graph_dict[start]\n",
    "        for node in nodes:\n",
    "            if node not in path:\n",
    "                new_paths = self.get_paths(node, end, path) \n",
    "                for p in new_paths:\n",
    "                    paths.append(p)\n",
    "\n",
    "        return paths\n",
    "    \n",
    "    def get_shortest_path(self, start, end, path = []):\n",
    "        path = path + [start]\n",
    "        if start not in self.graph_dict:\n",
    "            return None\n",
    "        \n",
    "        if start == end:\n",
    "            return path\n",
    "        shortest_path = None\n",
    "        nodes = self.graph_dict[start]\n",
    "        for node in nodes:\n",
    "            if node not in path:\n",
    "                sp = self.get_shortest_path(node, end, path)\n",
    "                if not shortest_path or len(sp)<len(shortest_path):\n",
    "                    shortest_path = sp\n",
    "        return shortest_path\n",
    "\n",
    "routes = [\n",
    "    (\"Mumbai\", \"Paris\"),\n",
    "    (\"Mumbai\", \"Dubai\"),\n",
    "    (\"Paris\", \"Dubai\"),\n",
    "    (\"Paris\", \"New York\"),\n",
    "    (\"Dubai\", \"New York\"),\n",
    "    (\"New York\", \"Toronto\")\n",
    "]\n",
    "\n",
    "g1 = Graph(routes)\n",
    "print(\"All paths\")\n",
    "print(g1.get_paths(\"Mumbai\", \"New York\"))\n",
    "\n",
    "print(\"Shortest paths\")\n",
    "print(g1.get_shortest_path(\"Mumbai\", \"New York\"))"
   ]
  },
  {
   "cell_type": "code",
   "execution_count": null,
   "metadata": {},
   "outputs": [],
   "source": []
  }
 ],
 "metadata": {
  "kernelspec": {
   "display_name": "Python 3",
   "language": "python",
   "name": "python3"
  },
  "language_info": {
   "codemirror_mode": {
    "name": "ipython",
    "version": 3
   },
   "file_extension": ".py",
   "mimetype": "text/x-python",
   "name": "python",
   "nbconvert_exporter": "python",
   "pygments_lexer": "ipython3",
   "version": "3.11.1"
  }
 },
 "nbformat": 4,
 "nbformat_minor": 2
}
